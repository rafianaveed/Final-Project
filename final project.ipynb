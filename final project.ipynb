{
 "cells": [
  {
   "cell_type": "code",
   "execution_count": null,
   "id": "a10d1f47-4a9e-4b39-a958-3335c962291a",
   "metadata": {},
   "outputs": [],
   "source": [
    " Final Project: Rainfall Prediction Classifier\n",
    "\n",
    "Name: Rafia Naveed  \n",
    "Email:naveedrafia817@gmail.com\n",
    "Coursera ID: "
   ]
  },
  {
   "cell_type": "code",
   "execution_count": null,
   "id": "90d1b5e8-d984-4b58-a642-4e1ba0a0f30a",
   "metadata": {},
   "outputs": [],
   "source": [
    "Exercise 1: Import Libraries\n",
    "import pandas as pd\n",
    "import numpy as np\n",
    "import matplotlib.pyplot as plt\n",
    "import seaborn as sns\n",
    "from sklearn.ensemble import RandomForestClassifier\n",
    "from sklearn.metrics import confusion_matrix, classification_report, accuracy_score\n",
    "from sklearn.model_selection import train_test_split\n",
    "from sklearn.preprocessing import LabelEncoder\n"
   ]
  },
  {
   "cell_type": "code",
   "execution_count": null,
   "id": "808bb3b9-db62-4250-95ff-7e8c109d4f63",
   "metadata": {},
   "outputs": [],
   "source": [
    " Exercise 2: Load Dataset\n",
    "df = pd.read_csv(\"weatherAUS.csv\")\n",
    "df.head()\n"
   ]
  },
  {
   "cell_type": "code",
   "execution_count": null,
   "id": "45aa3694-f9cc-4e54-98e2-30fd34834d02",
   "metadata": {},
   "outputs": [],
   "source": [
    "Exercise 3: Explore Data\n",
    "df.info()\n",
    "df.describe()\n",
    "df.isnull().sum()\n"
   ]
  },
  {
   "cell_type": "code",
   "execution_count": null,
   "id": "72735c1d-7e8a-4dea-b18a-4088b07face4",
   "metadata": {},
   "outputs": [],
   "source": [
    " Exercise 4: Clean Missing Values\n",
    "df = df.dropna(subset=['RainTomorrow'])\n",
    "df.fillna(df.mean(numeric_only=True), inplace=True)\n",
    "df.fillna(df.mode().iloc[0], inplace=True)\n"
   ]
  },
  {
   "cell_type": "code",
   "execution_count": null,
   "id": "87ac50eb-ba94-4623-8557-3df016ae4c87",
   "metadata": {},
   "outputs": [],
   "source": [
    "Exercise 5: Encode Categorical Columns\n",
    "label_cols = df.select_dtypes(include='object').columns\n",
    "df[label_cols] = df[label_cols].apply(LabelEncoder().fit_transform)\n",
    "\n"
   ]
  },
  {
   "cell_type": "code",
   "execution_count": null,
   "id": "b5c4ec55-10cc-4561-942e-2731229b950d",
   "metadata": {},
   "outputs": [],
   "source": [
    " Exercise 6: Feature Selection\n",
    "X = df.drop('RainTomorrow', axis=1)\n",
    "y = df['RainTomorrow']\n"
   ]
  },
  {
   "cell_type": "code",
   "execution_count": null,
   "id": "bcc56224-eab6-4daa-abe9-98ad2e273dd1",
   "metadata": {},
   "outputs": [],
   "source": [
    "Exercise 7: Train-Test Split\n",
    "X_train, X_test, y_train, y_test = train_test_split(X, y, test_size=0.2, random_state=42)\n"
   ]
  },
  {
   "cell_type": "code",
   "execution_count": null,
   "id": "ea36bdd9-f4d4-4028-a3f8-6fe7580457ca",
   "metadata": {},
   "outputs": [],
   "source": [
    " Exercise 8: Train Random Forest Classifier\n",
    "rf = RandomForestClassifier(random_state=42)\n",
    "rf.fit(X_train, y_train)\n"
   ]
  },
  {
   "cell_type": "code",
   "execution_count": null,
   "id": "1d806e75-15a0-4b9a-b630-cc9c079f7929",
   "metadata": {},
   "outputs": [],
   "source": [
    " Exercise 9: Make Predictions\n",
    "y_pred = rf.predict(X_test)\n",
    "\n"
   ]
  },
  {
   "cell_type": "code",
   "execution_count": null,
   "id": "74cf2eac-3393-450c-a022-2b53b18ef1b9",
   "metadata": {},
   "outputs": [],
   "source": [
    " Exercise 10: Evaluate Accuracy\n",
    "accuracy = accuracy_score(y_test, y_pred)\n",
    "print(\"Accuracy:\", accuracy)\n"
   ]
  },
  {
   "cell_type": "code",
   "execution_count": null,
   "id": "71bcb68b-8d72-4838-abd8-e7d86b9d6f4d",
   "metadata": {},
   "outputs": [],
   "source": [
    " Exercise 11: Show Confusion Matrix\n",
    "cm = confusion_matrix(y_test, y_pred)\n",
    "sns.heatmap(cm, annot=True, fmt='d', cmap='Blues')\n",
    "plt.xlabel(\"Predicted\")\n",
    "plt.ylabel(\"Actual\")\n",
    "plt.show()\n"
   ]
  },
  {
   "cell_type": "code",
   "execution_count": null,
   "id": "b4cb5f8f-2b26-46cd-b587-149ef3960404",
   "metadata": {},
   "outputs": [],
   "source": [
    " Exercise 12: Classification Report\n",
    "print(classification_report(y_test, y_pred))\n",
    "\n",
    "\n"
   ]
  },
  {
   "cell_type": "code",
   "execution_count": null,
   "id": "bbc1eac1-d812-470c-9139-cf03bfefe95f",
   "metadata": {},
   "outputs": [],
   "source": [
    "Exercise 13: Calculate True Positive Rate\n",
    "# From confusion matrix\n",
    "TP = cm[1][1]\n",
    "FN = cm[1][0]\n",
    "TPR = TP / (TP + FN)\n",
    "print(\"True Positive Rate:\", round(TPR * 100))\n"
   ]
  },
  {
   "cell_type": "code",
   "execution_count": null,
   "id": "fe1510eb-35f0-493c-abd3-de7fca3a48c3",
   "metadata": {},
   "outputs": [],
   "source": [
    " Exercise 14: Conclusion\n",
    "print(\"Conclusion: Random Forest performs well in rainfall prediction with accuracy of\", round(accuracy*100), \"%\")\n"
   ]
  }
 ],
 "metadata": {
  "kernelspec": {
   "display_name": "Python 3 (ipykernel)",
   "language": "python",
   "name": "python3"
  },
  "language_info": {
   "codemirror_mode": {
    "name": "ipython",
    "version": 3
   },
   "file_extension": ".py",
   "mimetype": "text/x-python",
   "name": "python",
   "nbconvert_exporter": "python",
   "pygments_lexer": "ipython3",
   "version": "3.12.8"
  }
 },
 "nbformat": 4,
 "nbformat_minor": 5
}
